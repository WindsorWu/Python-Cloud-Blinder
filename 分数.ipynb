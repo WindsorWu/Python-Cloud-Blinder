{
 "cells": [
  {
   "cell_type": "code",
   "execution_count": 1,
   "id": "d940e2f0-6818-4a90-8e64-7f9d2ac07433",
   "metadata": {},
   "outputs": [
    {
     "name": "stdout",
     "output_type": "stream",
     "text": [
      "{'s01': [4.875, 15.113], 's02': [6.75, 18.9], 's03': [5.25, 14.175], 's04': [4.375, 13.125], 's05': [2.875, 8.05], 's06': [5.625, 14.625], 's07': [5.875, 14.688], 's08': [5.5, 11.0]}\n"
     ]
    }
   ],
   "source": [
    "import random\n",
    "dic={'s01':3.1,'s02':2.8,'s03':2.7,'s04':3.0,\n",
    "    's05':2.8,'s06':2.6,'s07':2.5,'s08':2.0\n",
    "    }\n",
    "xs={}\n",
    "for i in range(8):\n",
    "    xsfs=[]\n",
    "    nums_list=[]\n",
    "    list_columns=10\n",
    "    for j in range(list_columns):\n",
    "        num=random.randint(0,10)\n",
    "        nums_list.append(num)\n",
    "    nums_list.sort()\n",
    "    del nums_list[0]\n",
    "    del nums_list[-1]\n",
    "    aver=round(sum(nums_list)/len(nums_list),3)\n",
    "    scor=round(aver * dic['s0' + str(i + 1)],3)\n",
    "    xsfs.append(aver)\n",
    "    xsfs.append(scor)\n",
    "    xs['s0' + str(i + 1)]=xsfs\n",
    "print(xs)"
   ]
  },
  {
   "cell_type": "code",
   "execution_count": 13,
   "id": "5aee3650-be92-4c62-9bcc-d735e82f1b9c",
   "metadata": {},
   "outputs": [
    {
     "name": "stdout",
     "output_type": "stream",
     "text": [
      "['s01', 4.75, 3.1, 14.725]\n",
      "['s02', 4.5, 2.8, 12.6]\n",
      "['s03', 3.875, 2.7, 10.463]\n",
      "['s04', 4.625, 3.0, 13.875]\n",
      "['s05', 4.625, 2.8, 12.95]\n",
      "['s06', 4.75, 2.6, 12.35]\n",
      "['s07', 4.875, 2.5, 12.188]\n",
      "['s08', 5.375, 2.0, 10.75]\n"
     ]
    }
   ],
   "source": [
    "import random\n",
    "dic={'s01':3.1,'s02':2.8,'s03':2.7,'s04':3.0,\n",
    "     's05':2.8,'s06':2.6,'s07':2.5,'s08':2.0\n",
    "    }\n",
    "nums_list=[]\n",
    "result_list=[]\n",
    "xs=8\n",
    "columns=10\n",
    "for i in range(coaches):\n",
    "    nums_list.append([])\n",
    "    result_list.append([])\n",
    "    for j in range(columns):\n",
    "        num=random.randint(0,10)\n",
    "        nums_list[i].append(num)\n",
    "    nums_list[i].sort()\n",
    "    del nums_list[i][0]\n",
    "    del nums_list[i][-1]\n",
    "    aver=sum(nums_list[i])/len(nums_list[i])\n",
    "    scor=round(aver * dic['s0' + str(i + 1)],3)\n",
    "    result_list[i].append('s0' + str(i + 1))\n",
    "    result_list[i].append(aver)\n",
    "    result_list[i].append(dic['s0' + str(i + 1)])\n",
    "    result_list[i].append(scor)\n",
    "    print(result_list[i])"
   ]
  },
  {
   "cell_type": "code",
   "execution_count": null,
   "id": "3b1f0f6e-27f3-40bc-862d-912bd64eb4c9",
   "metadata": {},
   "outputs": [],
   "source": []
  }
 ],
 "metadata": {
  "kernelspec": {
   "display_name": "WindsorWu",
   "language": "python",
   "name": "windsorwu"
  },
  "language_info": {
   "codemirror_mode": {
    "name": "ipython",
    "version": 3
   },
   "file_extension": ".py",
   "mimetype": "text/x-python",
   "name": "python",
   "nbconvert_exporter": "python",
   "pygments_lexer": "ipython3",
   "version": "3.7.10"
  }
 },
 "nbformat": 4,
 "nbformat_minor": 5
}
